{
 "cells": [
  {
   "cell_type": "markdown",
   "id": "f2f1deba",
   "metadata": {},
   "source": [
    "## Wordnet Lemmatizer\n",
    "Lemmatization technique is like stemming. The output we will get after lemmatization is called ‘lemma’, which is a root word rather than root stem, the output of stemming. After lemmatization, we will be getting a valid word that means the same thing.\n",
    "\n",
    "NLTK provides WordNetLemmatizer class which is a thin wrapper around the wordnet corpus. This class uses morphy() function to the WordNet CorpusReader class to find a lemma. Let us understand it with an example − \n",
    "\n",
    "\n",
    "## Q&A, Chatbot, text summmarization\n"
   ]
  },
  {
   "cell_type": "code",
   "execution_count": 22,
   "id": "23259a55",
   "metadata": {},
   "outputs": [],
   "source": [
    "from nltk.stem import WordNetLemmatizer"
   ]
  },
  {
   "cell_type": "code",
   "execution_count": 23,
   "id": "b2e167aa",
   "metadata": {},
   "outputs": [],
   "source": [
    "lemmtizer = WordNetLemmatizer()"
   ]
  },
  {
   "cell_type": "code",
   "execution_count": 24,
   "id": "522bfd06",
   "metadata": {},
   "outputs": [
    {
     "name": "stdout",
     "output_type": "stream",
     "text": [
      "Going with POS Tag n : going\n",
      "Going with POS Tag v : go\n",
      "Going with POS Tag a : going\n",
      "Going with POS Tag r : going\n"
     ]
    }
   ],
   "source": [
    "'''\n",
    "POS - Noun n\n",
    "verb - v\n",
    "adjective a\n",
    "adverb r\n",
    "\n",
    "default POST Tag is n\n",
    "'''\n",
    "\n",
    "pos_n = lemmtizer.lemmatize(\"going\")\n",
    "pos_v = lemmtizer.lemmatize(\"going\", pos='v')\n",
    "pos_a = lemmtizer.lemmatize(\"going\", pos='a')\n",
    "pos_r = lemmtizer.lemmatize(\"going\", pos='r')\n",
    "print(f\"Going with POS Tag n : {pos_n}\")\n",
    "print(f\"Going with POS Tag v : {pos_v}\")\n",
    "print(f\"Going with POS Tag a : {pos_a}\")\n",
    "print(f\"Going with POS Tag r : {pos_r}\")"
   ]
  },
  {
   "cell_type": "code",
   "execution_count": 25,
   "id": "e719fa46",
   "metadata": {},
   "outputs": [
    {
     "name": "stdout",
     "output_type": "stream",
     "text": [
      "eating ----- > eat\n",
      "eats ----- > eat\n",
      "writing ----- > write\n",
      "writes ----- > write\n",
      "programing ----- > program\n",
      "programs ----- > program\n",
      "history ----- > history\n",
      "finally ----- > finally\n",
      "finalized ----- > finalize\n"
     ]
    }
   ],
   "source": [
    "words = [\"eating\", \"eats\", \"writing\", \"writes\", \"programing\", \"programs\", \"history\", \"finally\", \"finalized\"]\n",
    "for word in words:\n",
    "    print(f\"{word} ----- > {lemmtizer.lemmatize(word, pos='v')}\")"
   ]
  },
  {
   "cell_type": "code",
   "execution_count": 26,
   "id": "4edd65ca",
   "metadata": {},
   "outputs": [
    {
     "data": {
      "text/plain": [
       "'spotingly'"
      ]
     },
     "execution_count": 26,
     "metadata": {},
     "output_type": "execute_result"
    }
   ],
   "source": [
    "lemmtizer.lemmatize(\"goes\", pos='v')\n",
    "lemmtizer.lemmatize(\"fairly\", pos='v')\n",
    "lemmtizer.lemmatize(\"spotingly\", pos='v')"
   ]
  }
 ],
 "metadata": {
  "kernelspec": {
   "display_name": "env",
   "language": "python",
   "name": "python3"
  },
  "language_info": {
   "codemirror_mode": {
    "name": "ipython",
    "version": 3
   },
   "file_extension": ".py",
   "mimetype": "text/x-python",
   "name": "python",
   "nbconvert_exporter": "python",
   "pygments_lexer": "ipython3",
   "version": "3.12.10"
  }
 },
 "nbformat": 4,
 "nbformat_minor": 5
}
