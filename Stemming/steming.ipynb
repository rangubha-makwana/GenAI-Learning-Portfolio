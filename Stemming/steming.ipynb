{
 "cells": [
  {
   "cell_type": "code",
   "execution_count": 6,
   "id": "e355ea5a",
   "metadata": {},
   "outputs": [
    {
     "name": "stdout",
     "output_type": "stream",
     "text": [
      "eating--->eat\n",
      "eats--->eat\n",
      "writing--->write\n",
      "writes--->write\n",
      "programing--->program\n",
      "programs--->program\n",
      "history--->histori\n",
      "finally--->final\n",
      "finalized--->final\n"
     ]
    }
   ],
   "source": [
    "## PorterStammer\n",
    "from nltk.stem import PorterStemmer\n",
    "\n",
    "\n",
    "streming = PorterStemmer()\n",
    "\n",
    "words = [\"eating\", \"eats\", \"writing\", \"writes\", \"programing\", \"programs\", \"history\", \"finally\", \"finalized\"]\n",
    "\n",
    "for word in words:\n",
    "    print(f\"{word}--->{streming.stem(word)}\")"
   ]
  },
  {
   "cell_type": "markdown",
   "id": "41e6e1c2",
   "metadata": {},
   "source": [
    "RegexpStremmer Class\n",
    "NLTK has RegexStemmer Class with help of which we can easily implement Regular Expression Stemmer algorithm. it basiclly take a single regular expression and remove any prefix or suffix that matches the expression.ex:"
   ]
  },
  {
   "cell_type": "code",
   "execution_count": 1,
   "id": "f3c20171",
   "metadata": {},
   "outputs": [],
   "source": [
    "from nltk.stem import RegexpStemmer\n",
    "reg_stemmer = RegexpStemmer('ing$|s$|e$|able$', min=4)\n"
   ]
  },
  {
   "cell_type": "code",
   "execution_count": 3,
   "id": "79e9b08c",
   "metadata": {},
   "outputs": [
    {
     "data": {
      "text/plain": [
       "'ingeat'"
      ]
     },
     "execution_count": 3,
     "metadata": {},
     "output_type": "execute_result"
    }
   ],
   "source": [
    "reg_stemmer.stem(\"eating\")\n",
    "reg_stemmer.stem(\"ingeating\")"
   ]
  },
  {
   "cell_type": "markdown",
   "id": "60466e46",
   "metadata": {},
   "source": [
    "Snowball Stemmer"
   ]
  },
  {
   "cell_type": "code",
   "execution_count": 11,
   "id": "5f95f319",
   "metadata": {},
   "outputs": [
    {
     "data": {
      "text/plain": [
       "'rangubha'"
      ]
     },
     "execution_count": 11,
     "metadata": {},
     "output_type": "execute_result"
    }
   ],
   "source": [
    "from nltk.stem import SnowballStemmer\n",
    "\n",
    "snowballstemmer = SnowballStemmer(\"english\")\n",
    "# for word in words:\n",
    "#     print(f\"{word}---l->{snowballstemmer.stem(word)}\")\n",
    "    \n",
    "snowballstemmer.stem(\"rangubhaes\")"
   ]
  }
 ],
 "metadata": {
  "kernelspec": {
   "display_name": "env",
   "language": "python",
   "name": "python3"
  },
  "language_info": {
   "codemirror_mode": {
    "name": "ipython",
    "version": 3
   },
   "file_extension": ".py",
   "mimetype": "text/x-python",
   "name": "python",
   "nbconvert_exporter": "python",
   "pygments_lexer": "ipython3",
   "version": "3.12.10"
  }
 },
 "nbformat": 4,
 "nbformat_minor": 5
}
