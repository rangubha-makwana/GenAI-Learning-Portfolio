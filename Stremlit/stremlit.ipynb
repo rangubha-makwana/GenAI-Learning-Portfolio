{
 "cells": [
  {
   "cell_type": "markdown",
   "id": "d379c74a",
   "metadata": {},
   "source": [
    "Introduction to Streamlit\n",
    "\n",
    "\n",
    "Streamlit is an open-source app framework for Machine Learning and Data Science projects. It allows you to create beautiful web applications for your machine learning and data science projects with simple Python scripts."
   ]
  },
  {
   "cell_type": "code",
   "execution_count": null,
   "id": "59198c57",
   "metadata": {
    "vscode": {
     "languageId": "plaintext"
    }
   },
   "outputs": [],
   "source": []
  }
 ],
 "metadata": {
  "language_info": {
   "name": "python"
  }
 },
 "nbformat": 4,
 "nbformat_minor": 5
}
