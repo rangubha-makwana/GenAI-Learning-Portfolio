{
 "cells": [
  {
   "cell_type": "code",
   "execution_count": 19,
   "id": "6fe1bda0",
   "metadata": {},
   "outputs": [
    {
     "name": "stdout",
     "output_type": "stream",
     "text": [
      "Hello Welcome, To Rangubha's Learnign Journey,\n",
      "Please be part of entrie journey! , to understand it.\n",
      "\n"
     ]
    }
   ],
   "source": [
    "corpus = \"\"\"Hello Welcome, To Rangubha's Learnign Journey,\n",
    "Please be part of entrie journey! , to understand it.\n",
    "\"\"\"\n",
    "print(corpus)\n",
    "\n"
   ]
  },
  {
   "cell_type": "code",
   "execution_count": 26,
   "id": "b99a26eb",
   "metadata": {},
   "outputs": [
    {
     "name": "stderr",
     "output_type": "stream",
     "text": [
      "[nltk_data] Downloading package punkt to /home/rangubha/nltk_data...\n",
      "[nltk_data]   Package punkt is already up-to-date!\n",
      "[nltk_data] Downloading package punkt_tab to\n",
      "[nltk_data]     /home/rangubha/nltk_data...\n",
      "[nltk_data]   Package punkt_tab is already up-to-date!\n"
     ]
    }
   ],
   "source": [
    "### Tokenization\n",
    "### Paragraphs  -- > Sentence \n",
    "import nltk\n",
    "nltk.download('punkt')  # Download tokenizer model\n",
    "nltk.download('punkt_tab')  # Download tokenizer model\n",
    "from nltk.tokenize import sent_tokenize"
   ]
  },
  {
   "cell_type": "code",
   "execution_count": 37,
   "id": "a7c3a090",
   "metadata": {},
   "outputs": [
    {
     "name": "stdout",
     "output_type": "stream",
     "text": [
      "[\"Hello Welcome, To Rangubha's Learnign Journey,\\nPlease be part of entrie journey!\", ', to understand it.']\n"
     ]
    }
   ],
   "source": [
    "sentenses = sent_tokenize(corpus)\n",
    "print(sentenses)"
   ]
  },
  {
   "cell_type": "code",
   "execution_count": 33,
   "id": "bb60c3f7",
   "metadata": {},
   "outputs": [],
   "source": [
    "# Toeknization \n",
    "# Paragraph --> words\n",
    "# Senstence --> Words\n",
    "from nltk.tokenize import word_tokenize"
   ]
  },
  {
   "cell_type": "markdown",
   "id": "d07c008d",
   "metadata": {},
   "source": []
  },
  {
   "cell_type": "code",
   "execution_count": 40,
   "id": "fe8fc1c4",
   "metadata": {},
   "outputs": [
    {
     "name": "stdout",
     "output_type": "stream",
     "text": [
      "['Hello', 'Welcome', ',', 'To', 'Rangubha', \"'s\", 'Learnign', 'Journey', ',', 'Please', 'be', 'part', 'of', 'entrie', 'journey', '!', ',', 'to', 'understand', 'it', '.']\n",
      "['Hello', 'Welcome', ',', 'To', 'Rangubha', \"'s\", 'Learnign', 'Journey', ',', 'Please', 'be', 'part', 'of', 'entrie', 'journey', '!']\n",
      "[',', 'to', 'understand', 'it', '.']\n"
     ]
    }
   ],
   "source": [
    "doc = word_tokenize(corpus)\n",
    "print(doc)\n",
    "for i in sentenses:\n",
    "    print(word_tokenize(i))\n"
   ]
  },
  {
   "cell_type": "code",
   "execution_count": 41,
   "id": "f8fb0383",
   "metadata": {},
   "outputs": [
    {
     "name": "stdout",
     "output_type": "stream",
     "text": [
      "['Hello', 'Welcome', ',', 'To', 'Rangubha', \"'\", 's', 'Learnign', 'Journey', ',', 'Please', 'be', 'part', 'of', 'entrie', 'journey', '!', ',', 'to', 'understand', 'it', '.']\n"
     ]
    }
   ],
   "source": [
    "from nltk.tokenize import wordpunct_tokenize\n",
    "print(wordpunct_tokenize(corpus))"
   ]
  },
  {
   "cell_type": "code",
   "execution_count": 42,
   "id": "951efcfa",
   "metadata": {},
   "outputs": [
    {
     "data": {
      "text/plain": [
       "['Hello',\n",
       " 'Welcome',\n",
       " ',',\n",
       " 'To',\n",
       " 'Rangubha',\n",
       " \"'s\",\n",
       " 'Learnign',\n",
       " 'Journey',\n",
       " ',',\n",
       " 'Please',\n",
       " 'be',\n",
       " 'part',\n",
       " 'of',\n",
       " 'entrie',\n",
       " 'journey',\n",
       " '!',\n",
       " ',',\n",
       " 'to',\n",
       " 'understand',\n",
       " 'it',\n",
       " '.']"
      ]
     },
     "execution_count": 42,
     "metadata": {},
     "output_type": "execute_result"
    }
   ],
   "source": [
    "from nltk.tokenize import TreebankWordTokenizer\n",
    "tokenizer = TreebankWordTokenizer()\n",
    "tokenizer.tokenize(corpus)"
   ]
  },
  {
   "cell_type": "code",
   "execution_count": null,
   "id": "39efbae0",
   "metadata": {},
   "outputs": [],
   "source": []
  },
  {
   "cell_type": "code",
   "execution_count": null,
   "id": "d902bb00",
   "metadata": {},
   "outputs": [],
   "source": []
  },
  {
   "cell_type": "code",
   "execution_count": null,
   "id": "a341786a",
   "metadata": {},
   "outputs": [],
   "source": []
  },
  {
   "cell_type": "code",
   "execution_count": null,
   "id": "1ee6aa19",
   "metadata": {},
   "outputs": [],
   "source": []
  },
  {
   "cell_type": "code",
   "execution_count": null,
   "id": "0f51db6e",
   "metadata": {},
   "outputs": [],
   "source": []
  },
  {
   "cell_type": "code",
   "execution_count": null,
   "id": "22484025",
   "metadata": {},
   "outputs": [],
   "source": []
  },
  {
   "cell_type": "code",
   "execution_count": null,
   "id": "cbe23d53",
   "metadata": {},
   "outputs": [],
   "source": []
  },
  {
   "cell_type": "code",
   "execution_count": null,
   "id": "5de121a4",
   "metadata": {},
   "outputs": [],
   "source": []
  },
  {
   "cell_type": "code",
   "execution_count": null,
   "id": "380c93c4",
   "metadata": {},
   "outputs": [],
   "source": []
  }
 ],
 "metadata": {
  "kernelspec": {
   "display_name": "env",
   "language": "python",
   "name": "python3"
  },
  "language_info": {
   "codemirror_mode": {
    "name": "ipython",
    "version": 3
   },
   "file_extension": ".py",
   "mimetype": "text/x-python",
   "name": "python",
   "nbconvert_exporter": "python",
   "pygments_lexer": "ipython3",
   "version": "3.12.10"
  }
 },
 "nbformat": 4,
 "nbformat_minor": 5
}
